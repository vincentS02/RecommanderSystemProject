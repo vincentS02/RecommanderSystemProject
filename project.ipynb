{
 "cells": [
  {
   "cell_type": "markdown",
   "metadata": {},
   "source": [
    "# 1. Data collection and Preprocessing"
   ]
  },
  {
   "cell_type": "code",
   "execution_count": 20,
   "metadata": {},
   "outputs": [],
   "source": [
    "import numpy as np\n",
    "from sklearn.model_selection import train_test_split\n"
   ]
  },
  {
   "cell_type": "code",
   "execution_count": 1,
   "metadata": {},
   "outputs": [
    {
     "name": "stderr",
     "output_type": "stream",
     "text": [
      "C:\\Users\\vince\\AppData\\Local\\Temp\\ipykernel_12360\\3142843572.py:20: DtypeWarning: Columns (4) have mixed types. Specify dtype option on import or set low_memory=False.\n",
      "  title_basics = pd.read_csv(path_to_imdb+'title.basics.tsv', sep='\\t', encoding='latin')\n"
     ]
    }
   ],
   "source": [
    "import pandas as pd\n",
    "path_to_movieslens = \"ml-1m\"\n",
    "path_to_imdb = \"\"\n",
    "\n",
    "\n",
    "\n",
    "# Load ratings.dat\n",
    "ratings = pd.read_csv(path_to_movieslens+'/ratings.dat', sep='::', engine='python',\n",
    "                      names=['UserID', 'MovieID', 'Rating', 'Timestamp'])\n",
    "\n",
    "# Load users.dat\n",
    "users = pd.read_csv(path_to_movieslens+'/users.dat', sep='::', engine='python',\n",
    "                    names=['UserID', 'Gender', 'Age', 'Occupation', 'Zip-code'])\n",
    "\n",
    "# Load movies.dat\n",
    "movies = pd.read_csv(path_to_movieslens+'/movies.dat', sep='::', engine='python',\n",
    "                     names=['MovieID', 'Title', 'Genres'], encoding='ISO-8859-1')\n",
    "\n",
    "\n",
    "title_basics = pd.read_csv(path_to_imdb+'title.basics.tsv', sep='\\t', encoding='latin')\n",
    "title_crew = pd.read_csv(path_to_imdb+'title.crew.tsv', sep='\\t', encoding='latin')\n",
    "title_principals = pd.read_csv(path_to_imdb+'title.principals.tsv', sep='\\t', encoding='latin')\n",
    "title_akas = pd.read_csv(path_to_imdb+'title.akas.tsv', sep='\\t', encoding='latin')\n",
    "name_basics = pd.read_csv(path_to_imdb+'name.basics.tsv', sep='\\t', encoding='latin')"
   ]
  },
  {
   "cell_type": "code",
   "execution_count": 2,
   "metadata": {},
   "outputs": [
    {
     "name": "stdout",
     "output_type": "stream",
     "text": [
      "   MovieID                               Title                        Genres\n",
      "0        1                    Toy Story (1995)   Animation|Children's|Comedy\n",
      "1        2                      Jumanji (1995)  Adventure|Children's|Fantasy\n",
      "2        3             Grumpier Old Men (1995)                Comedy|Romance\n",
      "3        4            Waiting to Exhale (1995)                  Comedy|Drama\n",
      "4        5  Father of the Bride Part II (1995)                        Comedy\n"
     ]
    }
   ],
   "source": [
    "print(movies.head())"
   ]
  },
  {
   "cell_type": "code",
   "execution_count": 3,
   "metadata": {},
   "outputs": [
    {
     "name": "stdout",
     "output_type": "stream",
     "text": [
      "Ratings Data:\n",
      "   UserID  MovieID  Rating  Timestamp\n",
      "0       1     1193       5  978300760\n",
      "1       1      661       3  978302109\n",
      "2       1      914       3  978301968\n",
      "3       1     3408       4  978300275\n",
      "4       1     2355       5  978824291\n",
      "\n",
      "Users Data:\n",
      "   UserID Gender  Age  Occupation Zip-code\n",
      "0       1      F    1          10    48067\n",
      "1       2      M   56          16    70072\n",
      "2       3      M   25          15    55117\n",
      "3       4      M   45           7    02460\n",
      "4       5      M   25          20    55455\n",
      "\n",
      "Movies Data:\n",
      "   MovieID                               Title                        Genres\n",
      "0        1                    Toy Story (1995)   Animation|Children's|Comedy\n",
      "1        2                      Jumanji (1995)  Adventure|Children's|Fantasy\n",
      "2        3             Grumpier Old Men (1995)                Comedy|Romance\n",
      "3        4            Waiting to Exhale (1995)                  Comedy|Drama\n",
      "4        5  Father of the Bride Part II (1995)                        Comedy\n"
     ]
    }
   ],
   "source": [
    "print(\"Ratings Data:\")\n",
    "print(ratings.head())\n",
    "print(\"\\nUsers Data:\")\n",
    "print(users.head())\n",
    "print(\"\\nMovies Data:\")\n",
    "print(movies.head())\n",
    "\n"
   ]
  },
  {
   "cell_type": "markdown",
   "metadata": {},
   "source": [
    "# 2. Feature Engineering"
   ]
  },
  {
   "cell_type": "code",
   "execution_count": 4,
   "metadata": {},
   "outputs": [],
   "source": [
    "directors = title_principals[title_principals['category'] == 'director'][['tconst', 'nconst']]\n",
    "directors = directors.merge(name_basics[['nconst', 'primaryName']], on='nconst', how='left')\n",
    "# Replace NaN values with empty strings\n",
    "directors['primaryName'] = directors['primaryName'].fillna('')\n",
    "\n",
    "# Group by tconst and join the primaryName values\n",
    "directors = directors.groupby('tconst')['primaryName'].apply(lambda x: ', '.join(x)).reset_index()\n",
    "directors.columns = ['tconst', 'Directors']"
   ]
  },
  {
   "cell_type": "code",
   "execution_count": 5,
   "metadata": {},
   "outputs": [
    {
     "name": "stdout",
     "output_type": "stream",
     "text": [
      "Directors Data:\n",
      "      tconst                            Directors\n",
      "0  tt0000001                 William K.L. Dickson\n",
      "1  tt0000002                       Ãmile Reynaud\n",
      "2  tt0000003                       Ãmile Reynaud\n",
      "3  tt0000004                       Ãmile Reynaud\n",
      "4  tt0000007  William K.L. Dickson, William Heise\n"
     ]
    }
   ],
   "source": [
    "print(\"Directors Data:\")\n",
    "print(directors.head())"
   ]
  },
  {
   "cell_type": "code",
   "execution_count": 6,
   "metadata": {},
   "outputs": [],
   "source": [
    "# Extract cast\n",
    "cast = title_principals[title_principals['category'].isin(['actor', 'actress'])][['tconst', 'nconst']]\n",
    "cast = cast.merge(name_basics[['nconst', 'primaryName']], on='nconst', how='left')\n",
    "\n",
    "# Replace NaN values with empty strings\n",
    "cast['primaryName'] = cast['primaryName'].fillna('')\n",
    "\n",
    "# Group by tconst and join the primaryName values\n",
    "cast = cast.groupby('tconst')['primaryName'].apply(lambda x: ', '.join(x)).reset_index()\n",
    "cast.columns = ['tconst', 'Cast']"
   ]
  },
  {
   "cell_type": "code",
   "execution_count": 7,
   "metadata": {},
   "outputs": [
    {
     "name": "stdout",
     "output_type": "stream",
     "text": [
      "Cast Data:\n",
      "      tconst                                               Cast\n",
      "0  tt0000005                           Charles Kayser, John Ott\n",
      "1  tt0000007                   James J. Corbett, Peter Courtney\n",
      "2  tt0000008                                           Fred Ott\n",
      "3  tt0000009  Blanche Bayliss, William Courtenay, Chauncey D...\n",
      "4  tt0000011                                            Grunato\n"
     ]
    }
   ],
   "source": [
    "print(\"Cast Data:\")\n",
    "print(cast.head())"
   ]
  },
  {
   "cell_type": "code",
   "execution_count": 8,
   "metadata": {},
   "outputs": [],
   "source": [
    "# Normalize titles for merging\n",
    "title_basics['primaryTitle'] = title_basics['primaryTitle'].str.lower().str.strip()\n",
    "movies['Title'] = movies['Title'].str.lower().str.strip()"
   ]
  },
  {
   "cell_type": "code",
   "execution_count": 9,
   "metadata": {},
   "outputs": [],
   "source": [
    "# Merge IMDb movies with directors and cast\n",
    "imdb_movies = title_basics[['tconst', 'primaryTitle']]\n",
    "imdb_movies = imdb_movies.merge(directors, on='tconst', how='left')\n",
    "imdb_movies = imdb_movies.merge(cast, on='tconst', how='left')"
   ]
  },
  {
   "cell_type": "code",
   "execution_count": 10,
   "metadata": {},
   "outputs": [
    {
     "name": "stdout",
     "output_type": "stream",
     "text": [
      "   MovieID                               Title                        Genres\n",
      "0        1                    toy story (1995)   Animation|Children's|Comedy\n",
      "1        2                      jumanji (1995)  Adventure|Children's|Fantasy\n",
      "2        3             grumpier old men (1995)                Comedy|Romance\n",
      "3        4            waiting to exhale (1995)                  Comedy|Drama\n",
      "4        5  father of the bride part ii (1995)                        Comedy\n"
     ]
    }
   ],
   "source": [
    "print(movies.head())"
   ]
  },
  {
   "cell_type": "code",
   "execution_count": 11,
   "metadata": {},
   "outputs": [],
   "source": [
    "movies = pd.read_csv(path_to_movieslens+'/movies.dat', sep='::', engine='python',\n",
    "                     names=['MovieID', 'Title', 'Genres'], encoding='ISO-8859-1')\n",
    "\n",
    "movies = movies.merge(imdb_movies, left_on='Title', right_on='primaryTitle', how='left')"
   ]
  },
  {
   "cell_type": "code",
   "execution_count": 12,
   "metadata": {},
   "outputs": [],
   "source": [
    "# Merge ratings with movies and users\n",
    "movielens_data = ratings.merge(movies, on='MovieID', how='left')\n",
    "movielens_data = movielens_data.merge(users, on='UserID', how='left')"
   ]
  },
  {
   "cell_type": "code",
   "execution_count": 13,
   "metadata": {},
   "outputs": [],
   "source": [
    "# One-Hot Encode Genres\n",
    "genres = movielens_data['Genres'].str.get_dummies('|')\n",
    "movielens_data = pd.concat([movielens_data, genres], axis=1)"
   ]
  },
  {
   "cell_type": "code",
   "execution_count": 14,
   "metadata": {},
   "outputs": [],
   "source": [
    "final_merged_data = movielens_data[['UserID', 'MovieID', 'Rating', 'Directors', 'Cast'] + genres.columns.tolist()]"
   ]
  },
  {
   "cell_type": "code",
   "execution_count": 15,
   "metadata": {},
   "outputs": [],
   "source": [
    "# Remove duplicate entries by averaging the ratings for each (UserID, MovieID) pair\n",
    "unique_ratings = final_merged_data.groupby(['UserID', 'MovieID'])['Rating'].mean().reset_index()"
   ]
  },
  {
   "cell_type": "code",
   "execution_count": 16,
   "metadata": {},
   "outputs": [
    {
     "name": "stdout",
     "output_type": "stream",
     "text": [
      "MovieID  1     2     3     4     5     6     7     8     9     10    ...  \\\n",
      "UserID                                                               ...   \n",
      "1         5.0   NaN   NaN   NaN   NaN   NaN   NaN   NaN   NaN   NaN  ...   \n",
      "2         NaN   NaN   NaN   NaN   NaN   NaN   NaN   NaN   NaN   NaN  ...   \n",
      "3         NaN   NaN   NaN   NaN   NaN   NaN   NaN   NaN   NaN   NaN  ...   \n",
      "4         NaN   NaN   NaN   NaN   NaN   NaN   NaN   NaN   NaN   NaN  ...   \n",
      "5         NaN   NaN   NaN   NaN   NaN   2.0   NaN   NaN   NaN   NaN  ...   \n",
      "...       ...   ...   ...   ...   ...   ...   ...   ...   ...   ...  ...   \n",
      "6036      NaN   NaN   NaN   2.0   NaN   3.0   NaN   NaN   NaN   NaN  ...   \n",
      "6037      NaN   NaN   NaN   NaN   NaN   NaN   NaN   NaN   NaN   NaN  ...   \n",
      "6038      NaN   NaN   NaN   NaN   NaN   NaN   NaN   NaN   NaN   NaN  ...   \n",
      "6039      NaN   NaN   NaN   NaN   NaN   NaN   NaN   NaN   NaN   NaN  ...   \n",
      "6040      3.0   NaN   NaN   NaN   NaN   NaN   NaN   NaN   NaN   NaN  ...   \n",
      "\n",
      "MovieID  3943  3944  3945  3946  3947  3948  3949  3950  3951  3952  \n",
      "UserID                                                               \n",
      "1         NaN   NaN   NaN   NaN   NaN   NaN   NaN   NaN   NaN   NaN  \n",
      "2         NaN   NaN   NaN   NaN   NaN   NaN   NaN   NaN   NaN   NaN  \n",
      "3         NaN   NaN   NaN   NaN   NaN   NaN   NaN   NaN   NaN   NaN  \n",
      "4         NaN   NaN   NaN   NaN   NaN   NaN   NaN   NaN   NaN   NaN  \n",
      "5         NaN   NaN   NaN   NaN   NaN   NaN   NaN   NaN   NaN   NaN  \n",
      "...       ...   ...   ...   ...   ...   ...   ...   ...   ...   ...  \n",
      "6036      NaN   NaN   NaN   NaN   NaN   NaN   NaN   NaN   NaN   NaN  \n",
      "6037      NaN   NaN   NaN   NaN   NaN   NaN   NaN   NaN   NaN   NaN  \n",
      "6038      NaN   NaN   NaN   NaN   NaN   NaN   NaN   NaN   NaN   NaN  \n",
      "6039      NaN   NaN   NaN   NaN   NaN   NaN   NaN   NaN   NaN   NaN  \n",
      "6040      NaN   NaN   NaN   NaN   NaN   NaN   NaN   NaN   NaN   NaN  \n",
      "\n",
      "[6040 rows x 3706 columns]\n"
     ]
    }
   ],
   "source": [
    "\n",
    "# Create the user-item interaction matrix\n",
    "user_item_matrix = unique_ratings.pivot(index='UserID', columns='MovieID', values='Rating')\n",
    "\n",
    "print(user_item_matrix)"
   ]
  },
  {
   "cell_type": "code",
   "execution_count": 17,
   "metadata": {},
   "outputs": [],
   "source": [
    "def combine_user_data(user_id_1, user_id_2, ratings, user_item_matrix, movielens_data, genres):\n",
    "    # Extract ratings for both users\n",
    "    user1_ratings = ratings[ratings['UserID'] == user_id_1]\n",
    "    user2_ratings = ratings[ratings['UserID'] == user_id_2]\n",
    "    \n",
    "    # Calculate the average rating for each user\n",
    "    user1_avg_rating = user1_ratings['Rating'].mean()\n",
    "    user2_avg_rating = user2_ratings['Rating'].mean()\n",
    "    \n",
    "    # Merge ratings to combine them\n",
    "    combined_ratings = pd.merge(user1_ratings, user2_ratings, on='MovieID', how='outer', suffixes=('_user1', '_user2'))\n",
    "    \n",
    "    # Fill NaNs with the user's average rating\n",
    "    combined_ratings['Rating_user1'] = combined_ratings['Rating_user1'].fillna(user1_avg_rating)\n",
    "    combined_ratings['Rating_user2'] = combined_ratings['Rating_user2'].fillna(user2_avg_rating)\n",
    "    \n",
    "    # Calculate combined ratings\n",
    "    combined_ratings['Combined_Rating'] = (combined_ratings['Rating_user1'] + combined_ratings['Rating_user2']) / 2\n",
    "    \n",
    "    # Create a combined user-item interaction matrix row\n",
    "    combined_user_row = combined_ratings[['MovieID', 'Combined_Rating']].set_index('MovieID').T\n",
    "    \n",
    "    # Concatenate the combined row to the original user-item matrix\n",
    "    combined_user_row.index = ['combined']\n",
    "    user_item_matrix_combined = pd.concat([user_item_matrix, combined_user_row])\n",
    "    \n",
    "    # Combine genre preferences\n",
    "    user1_genres = movielens_data[movielens_data['UserID'] == user_id_1][genres.columns].sum()\n",
    "    user2_genres = movielens_data[movielens_data['UserID'] == user_id_2][genres.columns].sum()\n",
    "    combined_genres = (user1_genres + user2_genres) / 2\n",
    "    \n",
    "    # Combine directors and cast preferences (for simplicity, we'll just concatenate the lists and remove duplicates)\n",
    "    user1_movies = movielens_data[movielens_data['UserID'] == user_id_1]\n",
    "    user2_movies = movielens_data[movielens_data['UserID'] == user_id_2]\n",
    "    \n",
    "    combined_directors = pd.concat([user1_movies['Directors'], user2_movies['Directors']]).dropna().unique()\n",
    "    combined_cast = pd.concat([user1_movies['Cast'], user2_movies['Cast']]).dropna().unique()\n",
    "    \n",
    "    combined_preferences = {\n",
    "        'Genres': combined_genres,\n",
    "        'Directors': combined_directors,\n",
    "        'Cast': combined_cast\n",
    "    }\n",
    "    \n",
    "    return user_item_matrix_combined, combined_preferences\n"
   ]
  },
  {
   "cell_type": "code",
   "execution_count": 18,
   "metadata": {},
   "outputs": [
    {
     "name": "stdout",
     "output_type": "stream",
     "text": [
      "Combined User-Item Matrix:\n",
      "MovieID       1     2     3     4     5     6     7     8     9     10    ...  \\\n",
      "1         5.000000   NaN   NaN   NaN   NaN   NaN   NaN   NaN   NaN   NaN  ...   \n",
      "2              NaN   NaN   NaN   NaN   NaN   NaN   NaN   NaN   NaN   NaN  ...   \n",
      "3              NaN   NaN   NaN   NaN   NaN   NaN   NaN   NaN   NaN   NaN  ...   \n",
      "4              NaN   NaN   NaN   NaN   NaN   NaN   NaN   NaN   NaN   NaN  ...   \n",
      "5              NaN   NaN   NaN   NaN   NaN   2.0   NaN   NaN   NaN   NaN  ...   \n",
      "...            ...   ...   ...   ...   ...   ...   ...   ...   ...   ...  ...   \n",
      "6037           NaN   NaN   NaN   NaN   NaN   NaN   NaN   NaN   NaN   NaN  ...   \n",
      "6038           NaN   NaN   NaN   NaN   NaN   NaN   NaN   NaN   NaN   NaN  ...   \n",
      "6039           NaN   NaN   NaN   NaN   NaN   NaN   NaN   NaN   NaN   NaN  ...   \n",
      "6040      3.000000   NaN   NaN   NaN   NaN   NaN   NaN   NaN   NaN   NaN  ...   \n",
      "combined  4.356589   NaN   NaN   NaN   NaN   NaN   NaN   NaN   NaN   NaN  ...   \n",
      "\n",
      "MovieID   3943  3944  3945  3946  3947  3948  3949  3950  3951  3952  \n",
      "1          NaN   NaN   NaN   NaN   NaN   NaN   NaN   NaN   NaN   NaN  \n",
      "2          NaN   NaN   NaN   NaN   NaN   NaN   NaN   NaN   NaN   NaN  \n",
      "3          NaN   NaN   NaN   NaN   NaN   NaN   NaN   NaN   NaN   NaN  \n",
      "4          NaN   NaN   NaN   NaN   NaN   NaN   NaN   NaN   NaN   NaN  \n",
      "5          NaN   NaN   NaN   NaN   NaN   NaN   NaN   NaN   NaN   NaN  \n",
      "...        ...   ...   ...   ...   ...   ...   ...   ...   ...   ...  \n",
      "6037       NaN   NaN   NaN   NaN   NaN   NaN   NaN   NaN   NaN   NaN  \n",
      "6038       NaN   NaN   NaN   NaN   NaN   NaN   NaN   NaN   NaN   NaN  \n",
      "6039       NaN   NaN   NaN   NaN   NaN   NaN   NaN   NaN   NaN   NaN  \n",
      "6040       NaN   NaN   NaN   NaN   NaN   NaN   NaN   NaN   NaN   NaN  \n",
      "combined   NaN   NaN   NaN   NaN   NaN   NaN   NaN   NaN   NaN   NaN  \n",
      "\n",
      "[6041 rows x 3706 columns]\n",
      "\n",
      "Combined Preferences:\n",
      "{'Genres': Action         30.5\n",
      "Adventure      12.0\n",
      "Animation       9.0\n",
      "Children's     10.0\n",
      "Comedy         19.5\n",
      "Crime           7.0\n",
      "Documentary     0.0\n",
      "Drama          50.0\n",
      "Fantasy         2.0\n",
      "Film-Noir       0.5\n",
      "Horror          1.0\n",
      "Musical         7.0\n",
      "Mystery         1.5\n",
      "Romance        15.0\n",
      "Sci-Fi         10.0\n",
      "Thriller       17.0\n",
      "War             8.5\n",
      "Western         1.5\n",
      "dtype: float64, 'Directors': array([], dtype=object), 'Cast': array([], dtype=object)}\n"
     ]
    }
   ],
   "source": [
    "# Example usage:\n",
    "user_id_1 = 1  # Replace with actual user ID\n",
    "user_id_2 = 2  # Replace with actual user ID\n",
    "\n",
    "user_item_matrix_combined, combined_preferences = combine_user_data(user_id_1, user_id_2, ratings, user_item_matrix, movielens_data, genres)\n",
    "print(\"Combined User-Item Matrix:\")\n",
    "print(user_item_matrix_combined)\n",
    "print(\"\\nCombined Preferences:\")\n",
    "print(combined_preferences)"
   ]
  },
  {
   "cell_type": "code",
   "execution_count": 29,
   "metadata": {},
   "outputs": [],
   "source": [
    "def svd_recommendation(user_item_matrix, k=50):\n",
    "    # Fill NaNs with 0s for the SVD computation\n",
    "    user_item_matrix_filled = user_item_matrix.fillna(0).values\n",
    "    \n",
    "    # Perform SVD\n",
    "    U, sigma, Vt = np.linalg.svd(user_item_matrix_filled, full_matrices=False)\n",
    "    \n",
    "    # Select the top k features\n",
    "    U_k = U[:, :k]\n",
    "    sigma_k = np.diag(sigma[:k])\n",
    "    Vt_k = Vt[:k, :]\n",
    "    \n",
    "    # Reconstruct the user-item matrix\n",
    "    user_item_matrix_reconstructed = np.dot(np.dot(U_k, sigma_k), Vt_k)\n",
    "    \n",
    "    # Clip the values to be within the rating scale (1 to 5)\n",
    "    user_item_matrix_reconstructed = np.clip(user_item_matrix_reconstructed, 1, 5)\n",
    "    \n",
    "    return user_item_matrix_reconstructed, U_k, sigma_k, Vt_k"
   ]
  },
  {
   "cell_type": "code",
   "execution_count": 30,
   "metadata": {},
   "outputs": [],
   "source": [
    "# Apply SVD to the combined user-item matrix\n",
    "user_item_matrix_combined, _ = combine_user_data(user_id_1, user_id_2, ratings, user_item_matrix, movielens_data, genres)\n",
    "reconstructed_matrix, U_k, sigma_k, Vt_k = svd_recommendation(user_item_matrix_combined)\n",
    "\n",
    "# Get the combined user index\n",
    "combined_user_index = user_item_matrix_combined.index.get_loc('combined')\n",
    "\n",
    "# Predicted ratings for the combined user\n",
    "predicted_ratings_combined_user = reconstructed_matrix[combined_user_index, :]\n"
   ]
  },
  {
   "cell_type": "code",
   "execution_count": 31,
   "metadata": {},
   "outputs": [],
   "source": [
    "predicted_ratings_df = pd.DataFrame(predicted_ratings_combined_user, index=user_item_matrix.columns, columns=['Predicted_Rating'])\n",
    "predicted_ratings_df = predicted_ratings_df.reset_index().rename(columns={'index': 'MovieID'})"
   ]
  },
  {
   "cell_type": "code",
   "execution_count": 32,
   "metadata": {},
   "outputs": [
    {
     "name": "stdout",
     "output_type": "stream",
     "text": [
      "Top 10 Recommended Movies:\n",
      "                                       Title  Predicted_Rating\n",
      "1848              Saving Private Ryan (1998)          5.000000\n",
      "309         Shawshank Redemption, The (1994)          5.000000\n",
      "106                        Braveheart (1995)          5.000000\n",
      "0                           Toy Story (1995)          4.693533\n",
      "513                  Schindler's List (1993)          4.547838\n",
      "2651                  American Beauty (1999)          4.501239\n",
      "466                     Jurassic Park (1993)          4.445061\n",
      "1104  One Flew Over the Cuckoo's Nest (1975)          4.130427\n",
      "2374                      Matrix, The (1999)          4.100194\n",
      "443                     Fugitive, The (1993)          3.989186\n"
     ]
    }
   ],
   "source": [
    "# Merge predicted ratings with movie metadata\n",
    "predicted_ratings_with_metadata = predicted_ratings_df.merge(movies, on='MovieID', how='left')\n",
    "\n",
    "# Sort movies by predicted rating\n",
    "recommended_movies = predicted_ratings_with_metadata.sort_values(by='Predicted_Rating', ascending=False)\n",
    "\n",
    "# Display top 10 recommended movies\n",
    "top_10_recommended_movies = recommended_movies.head(10)\n",
    "print(\"Top 10 Recommended Movies:\")\n",
    "print(top_10_recommended_movies[['Title', 'Predicted_Rating']])"
   ]
  },
  {
   "cell_type": "code",
   "execution_count": 33,
   "metadata": {},
   "outputs": [],
   "source": [
    "# Split the data into training and testing sets\n",
    "train_data, test_data = train_test_split(ratings, test_size=0.2, random_state=42)\n",
    "\n",
    "# Create the user-item interaction matrix for training data\n",
    "train_user_item_matrix = train_data.pivot(index='UserID', columns='MovieID', values='Rating')\n",
    "\n",
    "# Apply SVD to the training user-item matrix\n",
    "reconstructed_train_matrix, _, _, _ = svd_recommendation(train_user_item_matrix)\n",
    "\n",
    "# Evaluate the model using RMSE\n",
    "def rmse(predictions, targets):\n",
    "    return np.sqrt(((predictions - targets) ** 2).mean())"
   ]
  },
  {
   "cell_type": "code",
   "execution_count": 34,
   "metadata": {},
   "outputs": [],
   "source": [
    "\n",
    "# Get the predicted ratings for the test set\n",
    "test_user_item_matrix = test_data.pivot(index='UserID', columns='MovieID', values='Rating')\n",
    "test_user_item_matrix_filled = test_user_item_matrix.fillna(0).values\n",
    "\n",
    "# Get the common movies and users in both test and train sets\n",
    "common_users = test_user_item_matrix.index.intersection(train_user_item_matrix.index)\n",
    "common_movies = test_user_item_matrix.columns.intersection(train_user_item_matrix.columns)"
   ]
  },
  {
   "cell_type": "code",
   "execution_count": 35,
   "metadata": {},
   "outputs": [],
   "source": [
    "# Get the predicted ratings for the common users and movies\n",
    "predicted_ratings_test = reconstructed_train_matrix[np.ix_(\n",
    "    train_user_item_matrix.index.get_indexer(common_users),\n",
    "    train_user_item_matrix.columns.get_indexer(common_movies)\n",
    ")]\n",
    "\n",
    "# Get the actual ratings for the common users and movies\n",
    "actual_ratings_test = test_user_item_matrix_filled[np.ix_(\n",
    "    test_user_item_matrix.index.get_indexer(common_users),\n",
    "    test_user_item_matrix.columns.get_indexer(common_movies)\n",
    ")]"
   ]
  },
  {
   "cell_type": "code",
   "execution_count": 36,
   "metadata": {},
   "outputs": [
    {
     "name": "stdout",
     "output_type": "stream",
     "text": [
      "Model RMSE: 1.0840169879617894\n"
     ]
    }
   ],
   "source": [
    "\n",
    "# Calculate RMSE\n",
    "model_rmse = rmse(predicted_ratings_test, actual_ratings_test)\n",
    "print(f\"Model RMSE: {model_rmse}\")"
   ]
  }
 ],
 "metadata": {
  "kernelspec": {
   "display_name": "ox",
   "language": "python",
   "name": "python3"
  },
  "language_info": {
   "codemirror_mode": {
    "name": "ipython",
    "version": 3
   },
   "file_extension": ".py",
   "mimetype": "text/x-python",
   "name": "python",
   "nbconvert_exporter": "python",
   "pygments_lexer": "ipython3",
   "version": "3.11.3"
  }
 },
 "nbformat": 4,
 "nbformat_minor": 2
}
